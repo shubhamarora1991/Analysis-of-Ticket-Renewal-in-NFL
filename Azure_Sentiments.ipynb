{
 "cells": [
  {
   "cell_type": "code",
   "execution_count": 2,
   "metadata": {},
   "outputs": [],
   "source": [
    "import pandas as pd\n",
    "df = pd.read_csv('10_Counties.csv')\n"
   ]
  },
  {
   "cell_type": "code",
   "execution_count": 3,
   "metadata": {},
   "outputs": [
    {
     "data": {
      "text/html": [
       "<div>\n",
       "<style scoped>\n",
       "    .dataframe tbody tr th:only-of-type {\n",
       "        vertical-align: middle;\n",
       "    }\n",
       "\n",
       "    .dataframe tbody tr th {\n",
       "        vertical-align: top;\n",
       "    }\n",
       "\n",
       "    .dataframe thead th {\n",
       "        text-align: right;\n",
       "    }\n",
       "</style>\n",
       "<table border=\"1\" class=\"dataframe\">\n",
       "  <thead>\n",
       "    <tr style=\"text-align: right;\">\n",
       "      <th></th>\n",
       "      <th>County</th>\n",
       "      <th>review</th>\n",
       "      <th>x1</th>\n",
       "      <th>x2</th>\n",
       "      <th>x3</th>\n",
       "      <th>x4</th>\n",
       "      <th>y</th>\n",
       "    </tr>\n",
       "  </thead>\n",
       "  <tbody>\n",
       "    <tr>\n",
       "      <th>0</th>\n",
       "      <td>1</td>\n",
       "      <td>Great for kids! Easy to order screen. My kids ...</td>\n",
       "      <td>Blank Records</td>\n",
       "      <td>Blank Records</td>\n",
       "      <td>Blank Records</td>\n",
       "      <td>Blank Records</td>\n",
       "      <td>Blank Records</td>\n",
       "    </tr>\n",
       "    <tr>\n",
       "      <th>1</th>\n",
       "      <td>1</td>\n",
       "      <td>I've seen the future of McDonald's at this loc...</td>\n",
       "      <td>Blank Records</td>\n",
       "      <td>Blank Records</td>\n",
       "      <td>.  Even the employees can't effectively naviga...</td>\n",
       "      <td>Blank Records</td>\n",
       "      <td>.   As a former tech exec that has done thousa...</td>\n",
       "    </tr>\n",
       "    <tr>\n",
       "      <th>2</th>\n",
       "      <td>1</td>\n",
       "      <td>Super fast service and good location. They hav...</td>\n",
       "      <td>Blank Records</td>\n",
       "      <td>. Super fast service and good location</td>\n",
       "      <td>Blank Records</td>\n",
       "      <td>Blank Records</td>\n",
       "      <td>Blank Records</td>\n",
       "    </tr>\n",
       "    <tr>\n",
       "      <th>3</th>\n",
       "      <td>1</td>\n",
       "      <td>Staff is very polite and pleasant, however it ...</td>\n",
       "      <td>Blank Records</td>\n",
       "      <td>Blank Records</td>\n",
       "      <td>. Staff is very polite and pleasant, however i...</td>\n",
       "      <td>Blank Records</td>\n",
       "      <td>Blank Records</td>\n",
       "    </tr>\n",
       "    <tr>\n",
       "      <th>4</th>\n",
       "      <td>1</td>\n",
       "      <td>This McDonald's is one of the ones that have b...</td>\n",
       "      <td>.  They cleaned up the place and one of the gu...</td>\n",
       "      <td>.    Customer service from the younger employe...</td>\n",
       "      <td>.    Customer service from the younger employe...</td>\n",
       "      <td>Blank Records</td>\n",
       "      <td>Blank Records</td>\n",
       "    </tr>\n",
       "  </tbody>\n",
       "</table>\n",
       "</div>"
      ],
      "text/plain": [
       "   County                                             review  \\\n",
       "0       1  Great for kids! Easy to order screen. My kids ...   \n",
       "1       1  I've seen the future of McDonald's at this loc...   \n",
       "2       1  Super fast service and good location. They hav...   \n",
       "3       1  Staff is very polite and pleasant, however it ...   \n",
       "4       1  This McDonald's is one of the ones that have b...   \n",
       "\n",
       "                                                  x1  \\\n",
       "0                                      Blank Records   \n",
       "1                                      Blank Records   \n",
       "2                                      Blank Records   \n",
       "3                                      Blank Records   \n",
       "4  .  They cleaned up the place and one of the gu...   \n",
       "\n",
       "                                                  x2  \\\n",
       "0                                      Blank Records   \n",
       "1                                      Blank Records   \n",
       "2             . Super fast service and good location   \n",
       "3                                      Blank Records   \n",
       "4  .    Customer service from the younger employe...   \n",
       "\n",
       "                                                  x3             x4  \\\n",
       "0                                      Blank Records  Blank Records   \n",
       "1  .  Even the employees can't effectively naviga...  Blank Records   \n",
       "2                                      Blank Records  Blank Records   \n",
       "3  . Staff is very polite and pleasant, however i...  Blank Records   \n",
       "4  .    Customer service from the younger employe...  Blank Records   \n",
       "\n",
       "                                                   y  \n",
       "0                                      Blank Records  \n",
       "1  .   As a former tech exec that has done thousa...  \n",
       "2                                      Blank Records  \n",
       "3                                      Blank Records  \n",
       "4                                      Blank Records  "
      ]
     },
     "execution_count": 3,
     "metadata": {},
     "output_type": "execute_result"
    }
   ],
   "source": [
    "df.head()"
   ]
  },
  {
   "cell_type": "code",
   "execution_count": 60,
   "metadata": {
    "scrolled": true
   },
   "outputs": [
    {
     "name": "stdout",
     "output_type": "stream",
     "text": [
      "1\n",
      "{'statusCode': 403, 'message': 'Out of call volume quota. Quota will be replenished in 7.18:36:03.'}\n"
     ]
    },
    {
     "ename": "KeyError",
     "evalue": "'documents'",
     "output_type": "error",
     "traceback": [
      "\u001b[0;31m---------------------------------------------------------------------------\u001b[0m",
      "\u001b[0;31mKeyError\u001b[0m                                  Traceback (most recent call last)",
      "\u001b[0;32m<ipython-input-60-577bde087b85>\u001b[0m in \u001b[0;36m<module>\u001b[0;34m()\u001b[0m\n\u001b[1;32m     28\u001b[0m         \u001b[0msentiments\u001b[0m \u001b[0;34m=\u001b[0m \u001b[0mresponse\u001b[0m\u001b[0;34m.\u001b[0m\u001b[0mjson\u001b[0m\u001b[0;34m(\u001b[0m\u001b[0;34m)\u001b[0m\u001b[0;34m\u001b[0m\u001b[0m\n\u001b[1;32m     29\u001b[0m         \u001b[0mprint\u001b[0m\u001b[0;34m(\u001b[0m\u001b[0msentiments\u001b[0m\u001b[0;34m)\u001b[0m\u001b[0;34m\u001b[0m\u001b[0m\n\u001b[0;32m---> 30\u001b[0;31m         \u001b[0msentiments_y\u001b[0m\u001b[0;34m.\u001b[0m\u001b[0mappend\u001b[0m\u001b[0;34m(\u001b[0m\u001b[0msentiments\u001b[0m\u001b[0;34m[\u001b[0m\u001b[0;34m'documents'\u001b[0m\u001b[0;34m]\u001b[0m\u001b[0;34m[\u001b[0m\u001b[0;36m0\u001b[0m\u001b[0;34m]\u001b[0m\u001b[0;34m[\u001b[0m\u001b[0;34m'score'\u001b[0m\u001b[0;34m]\u001b[0m\u001b[0;34m)\u001b[0m\u001b[0;34m\u001b[0m\u001b[0m\n\u001b[0m",
      "\u001b[0;31mKeyError\u001b[0m: 'documents'"
     ]
    }
   ],
   "source": [
    "yourKey = \"bf41e3124c40450b95d4ee7ff142e708\"\n",
    "import requests\n",
    "import time\n",
    "sentiments_y = []\n",
    "review_number = 1\n",
    "time_counter = time.time()\n",
    "for review in df['y'][:20]:\n",
    "    if review == 'Blank Records':\n",
    "        sentiments_y.append('Not Valid')\n",
    "    else:\n",
    "     \n",
    "        if review_number % 100 == 0:\n",
    "            print(\"waiting\")\n",
    "            print(abs(75 - (time.time() - time_counter)))\n",
    "            time.sleep(abs(75 - (time.time() - time_counter)))\n",
    "            time_counter = time.time()\n",
    "        print(review_number)\n",
    "        review_number+=1\n",
    "        text_analytics_base_url = \"https://westcentralus.api.cognitive.microsoft.com/text/analytics/v2.0/\"\n",
    "    \n",
    "        sentiment_api_url = text_analytics_base_url + \"sentiment\"\n",
    "    \n",
    "        documents = {'documents' : [\n",
    "          {'id': '1', 'language': 'en', 'text': review}]}\n",
    "    \n",
    "        headers   = {\"Ocp-Apim-Subscription-Key\": yourKey}\n",
    "        response  = requests.post(sentiment_api_url, headers=headers, json=documents)\n",
    "        sentiments = response.json()\n",
    "        print(sentiments)\n",
    "        sentiments_y.append(sentiments['documents'][0]['score'])"
   ]
  },
  {
   "cell_type": "code",
   "execution_count": 57,
   "metadata": {},
   "outputs": [
    {
     "data": {
      "text/plain": [
       "0"
      ]
     },
     "execution_count": 57,
     "metadata": {},
     "output_type": "execute_result"
    }
   ],
   "source": [
    "len(sentiments_y)"
   ]
  },
  {
   "cell_type": "code",
   "execution_count": 51,
   "metadata": {},
   "outputs": [],
   "source": [
    "y = pd.DataFrame()\n",
    "y['sentiments_y'] = sentiments_y\n",
    "y.to_csv('y.csv')"
   ]
  },
  {
   "cell_type": "code",
   "execution_count": null,
   "metadata": {},
   "outputs": [],
   "source": []
  }
 ],
 "metadata": {
  "kernelspec": {
   "display_name": "Python 3",
   "language": "python",
   "name": "python3"
  },
  "language_info": {
   "codemirror_mode": {
    "name": "ipython",
    "version": 3
   },
   "file_extension": ".py",
   "mimetype": "text/x-python",
   "name": "python",
   "nbconvert_exporter": "python",
   "pygments_lexer": "ipython3",
   "version": "3.7.0"
  }
 },
 "nbformat": 4,
 "nbformat_minor": 2
}
